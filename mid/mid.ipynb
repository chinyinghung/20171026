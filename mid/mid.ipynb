{
 "cells": [
  {
   "cell_type": "markdown",
   "metadata": {},
   "source": [
    "# Q1. 畫出 diamond shape\n",
    "類似 HW04 Q1 作業，只是本次需要輸出一個菱形，而不是三角形。"
   ]
  },
  {
   "cell_type": "code",
   "execution_count": 4,
   "metadata": {},
   "outputs": [],
   "source": [
    "def sin(n):\n",
    "    for a in range(int(n)):\n",
    "        for b in range(int(n)- a - 1):\n",
    "            print(\" \",end=\"\")\n",
    "        for c in range(a + 1):\n",
    "            print(\"* \", end = \"\" )\n",
    "    \n",
    "        print()                # 換行"
   ]
  },
  {
   "cell_type": "code",
   "execution_count": 5,
   "metadata": {},
   "outputs": [
    {
     "name": "stdout",
     "output_type": "stream",
     "text": [
      "    * \n",
      "   * * \n",
      "  * * * \n",
      " * * * * \n",
      "* * * * * \n"
     ]
    }
   ],
   "source": [
    "sin (5)"
   ]
  },
  {
   "cell_type": "code",
   "execution_count": 20,
   "metadata": {
    "collapsed": true
   },
   "outputs": [],
   "source": [
    "def cos(n):\n",
    "    for d in range(int(n)):\n",
    "        for f in range(d+1):\n",
    "            print(\" \", end = \"\")\n",
    "        for e in range(int(n)-d-1):\n",
    "            print(\"* \",end = \"\")\n",
    "        print()"
   ]
  },
  {
   "cell_type": "code",
   "execution_count": 21,
   "metadata": {},
   "outputs": [
    {
     "name": "stdout",
     "output_type": "stream",
     "text": [
      " * * * * \n",
      "  * * * \n",
      "   * * \n",
      "    * \n",
      "     \n"
     ]
    }
   ],
   "source": [
    "cos(5)"
   ]
  },
  {
   "cell_type": "code",
   "execution_count": 44,
   "metadata": {},
   "outputs": [],
   "source": [
    "def diamon (k):\n",
    "    int(k)\n",
    "    print( sin(k) , cos(k) )"
   ]
  },
  {
   "cell_type": "code",
   "execution_count": 47,
   "metadata": {},
   "outputs": [
    {
     "name": "stdout",
     "output_type": "stream",
     "text": [
      "    * \n",
      "   * * \n",
      "  * * * \n",
      " * * * * \n",
      "* * * * * \n",
      " * * * * \n",
      "  * * * \n",
      "   * * \n",
      "    * \n",
      "     \n",
      "None None\n"
     ]
    }
   ],
   "source": [
    "diamon (5)"
   ]
  },
  {
   "cell_type": "markdown",
   "metadata": {},
   "source": [
    "# Q2. 刪除重複性的資料。\n",
    "讀入資料夾中的 symbols01.txt 及 symbols02.txt 裡面的所有 symbols。\n",
    "合併為一份沒有重複的 symbols，並輸出至 symbols03.txt。"
   ]
  },
  {
   "cell_type": "code",
   "execution_count": null,
   "metadata": {
    "collapsed": true
   },
   "outputs": [],
   "source": []
  },
  {
   "cell_type": "markdown",
   "metadata": {},
   "source": [
    "# Q3. 下載台灣上市公司基本資料。\n",
    "使用 pythn 下載政府開放資料平台上的台灣上市公司基本資料。\n",
    "輸出成 pandas dataframe。"
   ]
  },
  {
   "cell_type": "code",
   "execution_count": null,
   "metadata": {
    "collapsed": true
   },
   "outputs": [],
   "source": []
  },
  {
   "cell_type": "markdown",
   "metadata": {},
   "source": [
    "# Q4. 畫出技術曲線。\n",
    "選擇一種上課沒有提到過的技術曲線，使用 python 將它畫出來。\n",
    "股價可以使用預先下載的股價資料，或自己用 pandas datareader 自不同的資料源下載。"
   ]
  },
  {
   "cell_type": "code",
   "execution_count": null,
   "metadata": {
    "collapsed": true
   },
   "outputs": [],
   "source": []
  },
  {
   "cell_type": "markdown",
   "metadata": {},
   "source": [
    "# Q5. 策略回測。\n",
    "寫出自己的交易策略，並回測看看結果怎樣。"
   ]
  },
  {
   "cell_type": "code",
   "execution_count": null,
   "metadata": {
    "collapsed": true
   },
   "outputs": [],
   "source": []
  }
 ],
 "metadata": {
  "kernelspec": {
   "display_name": "Python 3",
   "language": "python",
   "name": "python3"
  },
  "language_info": {
   "codemirror_mode": {
    "name": "ipython",
    "version": 3
   },
   "file_extension": ".py",
   "mimetype": "text/x-python",
   "name": "python",
   "nbconvert_exporter": "python",
   "pygments_lexer": "ipython3",
   "version": "3.6.2"
  }
 },
 "nbformat": 4,
 "nbformat_minor": 2
}
