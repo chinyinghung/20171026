{
 "cells": [
  {
   "cell_type": "code",
   "execution_count": 4,
   "metadata": {},
   "outputs": [],
   "source": [
    "import os  #安裝套件os"
   ]
  },
  {
   "cell_type": "code",
   "execution_count": 30,
   "metadata": {},
   "outputs": [],
   "source": [
    "def main():        #定義main 函數\n",
    "    print ('Hellow word')     #示出文字  XXXXOXOOXO\n",
    "    print (\"This is Alice's greeting.\")\n",
    "    print ('This is Boc\\'s greeting.')\n",
    "    \n",
    "    foo(5,10)      #foo 一個函數名或   5 ~10數字 \n",
    "    \n",
    "    print ('=')\n",
    "    print ('Curent working directory is' + os.getcwd())\n",
    "    # 顯現 Curent working directory is 加上  os 叫出的工作目錄\n",
    "    \n",
    "    \n",
    "    counter = 0\n",
    "    counter += 1  # 每次遇到 +1\n",
    "    \n",
    "    food = [\"apples\",\" oranges\",\"cats\"]  # 建立 LIST 清單\n",
    "    \n",
    "    for i in food:    #建立迴圈  以food清單為基準\n",
    "        print (\"i like to eat\" + i )   #顯現  我喜歡吃...+  訂定出來的i\n",
    "        \n",
    "    for i in range(10):   #建立迴圈  range(10)表示在範圍10\n",
    "        \n",
    "        print (i+1)  #1開始跑   每次+1  到10止"
   ]
  },
  {
   "cell_type": "code",
   "execution_count": 31,
   "metadata": {},
   "outputs": [
    {
     "ename": "SyntaxError",
     "evalue": "unexpected EOF while parsing (<ipython-input-31-cf39234fc4a3>, line 1)",
     "output_type": "error",
     "traceback": [
      "\u001b[1;36m  File \u001b[1;32m\"<ipython-input-31-cf39234fc4a3>\"\u001b[1;36m, line \u001b[1;32m1\u001b[0m\n\u001b[1;33m    def foo(c,d):\u001b[0m\n\u001b[1;37m                 ^\u001b[0m\n\u001b[1;31mSyntaxError\u001b[0m\u001b[1;31m:\u001b[0m unexpected EOF while parsing\n"
     ]
    }
   ],
   "source": [
    "def foo(c,d):  # 定義函數 cd  可以填入數字\n",
    "    red=(c+d)\n",
    "    print(\"{}plus{} is equal to {}\".format(c,d,res))  # c + d =一個數字\n",
    "    \n",
    "    if res < 50: #當res <50\n",
    "        print('foo')  #顯現出 foo\n",
    "        \n",
    "        elif res >= 50  and (c==42):  #當 res小於50  和 C等於42時候\n",
    "            print(\"bar\")  #顯現bar\n",
    "            \n",
    "        else:\n",
    "            print('moo')  #其餘情況顯現 moo\n",
    "            \n",
    "        return res  #回寫入程式中\n",
    "    \n",
    "    "
   ]
  },
  {
   "cell_type": "code",
   "execution_count": 32,
   "metadata": {},
   "outputs": [
    {
     "ename": "NameError",
     "evalue": "name '_name_' is not defined",
     "output_type": "error",
     "traceback": [
      "\u001b[1;31m---------------------------------------------------------------------------\u001b[0m",
      "\u001b[1;31mNameError\u001b[0m                                 Traceback (most recent call last)",
      "\u001b[1;32m<ipython-input-32-319556d06298>\u001b[0m in \u001b[0;36m<module>\u001b[1;34m()\u001b[0m\n\u001b[1;32m----> 1\u001b[1;33m \u001b[1;32mif\u001b[0m \u001b[0m_name_\u001b[0m \u001b[1;33m==\u001b[0m \u001b[1;34m\"_main_\"\u001b[0m\u001b[1;33m:\u001b[0m\u001b[1;33m\u001b[0m\u001b[0m\n\u001b[0m\u001b[0;32m      2\u001b[0m         \u001b[0mmain\u001b[0m\u001b[1;33m(\u001b[0m\u001b[1;33m)\u001b[0m\u001b[1;33m\u001b[0m\u001b[0m\n",
      "\u001b[1;31mNameError\u001b[0m: name '_name_' is not defined"
     ]
    }
   ],
   "source": [
    "if _name_ == \"_main_\":  # 當name等於main時候  用來判斷是執行還是被執行\n",
    "    main()"
   ]
  },
  {
   "cell_type": "code",
   "execution_count": null,
   "metadata": {
    "collapsed": true
   },
   "outputs": [],
   "source": []
  },
  {
   "cell_type": "code",
   "execution_count": null,
   "metadata": {
    "collapsed": true
   },
   "outputs": [],
   "source": []
  },
  {
   "cell_type": "code",
   "execution_count": null,
   "metadata": {
    "collapsed": true
   },
   "outputs": [],
   "source": []
  },
  {
   "cell_type": "code",
   "execution_count": null,
   "metadata": {
    "collapsed": true
   },
   "outputs": [],
   "source": []
  },
  {
   "cell_type": "code",
   "execution_count": null,
   "metadata": {
    "collapsed": true
   },
   "outputs": [],
   "source": []
  },
  {
   "cell_type": "code",
   "execution_count": null,
   "metadata": {
    "collapsed": true
   },
   "outputs": [],
   "source": []
  },
  {
   "cell_type": "code",
   "execution_count": null,
   "metadata": {
    "collapsed": true
   },
   "outputs": [],
   "source": []
  }
 ],
 "metadata": {
  "kernelspec": {
   "display_name": "Python 3",
   "language": "python",
   "name": "python3"
  },
  "language_info": {
   "codemirror_mode": {
    "name": "ipython",
    "version": 3
   },
   "file_extension": ".py",
   "mimetype": "text/x-python",
   "name": "python",
   "nbconvert_exporter": "python",
   "pygments_lexer": "ipython3",
   "version": "3.6.2"
  }
 },
 "nbformat": 4,
 "nbformat_minor": 2
}
